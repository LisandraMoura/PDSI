{
 "cells": [
  {
   "cell_type": "code",
   "execution_count": null,
   "metadata": {},
   "outputs": [],
   "source": [
    "import matplotlib.pyplot as plt\n",
    "\n",
    "# Data for plotting\n",
    "x = [1, 2, 3, 4, 5]\n",
    "y = [1, 4, 9, 16, 25]\n",
    "\n",
    "# Create a figure and axis\n",
    "fig, ax = plt.subplots()\n",
    "\n",
    "# Plot the data\n",
    "ax.plot(x, y)\n",
    "\n",
    "# Add labels and title\n",
    "ax.set_xlabel('X Label')\n",
    "ax.set_ylabel('Y Label')\n",
    "ax.set_title('My Line Graph')\n",
    "\n",
    "# Show the plot\n",
    "plt.show()\n"
   ]
  },
  {
   "cell_type": "code",
   "execution_count": 8,
   "metadata": {},
   "outputs": [
    {
     "name": "stdout",
     "output_type": "stream",
     "text": [
      "[1 2 3 4 5 6 7]\n",
      "<class 'numpy.ndarray'>\n"
     ]
    }
   ],
   "source": [
    "import numpy as np\n",
    "# np.array([[object1], [objeto2], object3]]) Manualmente\n",
    "primeiro_array = np.array([1, 2, 3, 4, 5, 6, 7]) \n",
    "\n",
    "print(primeiro_array)\n",
    "print(type(primeiro_array))"
   ]
  },
  {
   "cell_type": "code",
   "execution_count": 11,
   "metadata": {},
   "outputs": [
    {
     "name": "stdout",
     "output_type": "stream",
     "text": [
      "[[1 2 3 4 5 6 7]\n",
      " [3 4 5 6 7 8 9]\n",
      " [4 6 5 7 8 9 7]]\n"
     ]
    }
   ],
   "source": [
    "matriz_array = np.array([[1, 2, 3, 4, 5, 6, 7],[3, 4, 5, 6, 7, 8, 9], \n",
    "                        [4, 6, 5, 7, 8, 9, 7]]) \n",
    "\n",
    "print(matriz_array)"
   ]
  },
  {
   "cell_type": "code",
   "execution_count": 12,
   "metadata": {},
   "outputs": [
    {
     "name": "stdout",
     "output_type": "stream",
     "text": [
      "[[[0. 0. 0. 0. 0. 0.]\n",
      "  [0. 0. 0. 0. 0. 0.]\n",
      "  [0. 0. 0. 0. 0. 0.]]\n",
      "\n",
      " [[0. 0. 0. 0. 0. 0.]\n",
      "  [0. 0. 0. 0. 0. 0.]\n",
      "  [0. 0. 0. 0. 0. 0.]]\n",
      "\n",
      " [[0. 0. 0. 0. 0. 0.]\n",
      "  [0. 0. 0. 0. 0. 0.]\n",
      "  [0. 0. 0. 0. 0. 0.]]\n",
      "\n",
      " [[0. 0. 0. 0. 0. 0.]\n",
      "  [0. 0. 0. 0. 0. 0.]\n",
      "  [0. 0. 0. 0. 0. 0.]]\n",
      "\n",
      " [[0. 0. 0. 0. 0. 0.]\n",
      "  [0. 0. 0. 0. 0. 0.]\n",
      "  [0. 0. 0. 0. 0. 0.]]]\n"
     ]
    }
   ],
   "source": [
    "#np.zeros()\n",
    "# 5 dimensões 3x6\n",
    "zero_array = np.zeros(shape = (5,3,6))\n",
    "\n",
    "print(zero_array)"
   ]
  },
  {
   "cell_type": "code",
   "execution_count": 13,
   "metadata": {},
   "outputs": [
    {
     "name": "stdout",
     "output_type": "stream",
     "text": [
      "[[1. 1. 1.]\n",
      " [1. 1. 1.]]\n"
     ]
    }
   ],
   "source": [
    "#np.ones()\n",
    "\n",
    "um_array = np.ones((2,3))\n",
    "\n",
    "print(um_array)"
   ]
  },
  {
   "cell_type": "code",
   "execution_count": 20,
   "metadata": {},
   "outputs": [
    {
     "name": "stdout",
     "output_type": "stream",
     "text": [
      "[ 10.         246.98222222  32.125      260.98222222]\n"
     ]
    }
   ],
   "source": [
    "#np.empty() sem valores vazios\n",
    "\n",
    "vazio = np.empty(4)\n",
    "\n",
    "print(vazio)"
   ]
  },
  {
   "cell_type": "code",
   "execution_count": 23,
   "metadata": {},
   "outputs": [
    {
     "name": "stdout",
     "output_type": "stream",
     "text": [
      "[ 0  5 10]\n"
     ]
    }
   ],
   "source": [
    "#np.arange([sart], stop, [step])\n",
    "\n",
    "arr = np.arange(0,11,5)\n",
    "rr = np.arange\n",
    "print(arr)"
   ]
  },
  {
   "cell_type": "code",
   "execution_count": 29,
   "metadata": {},
   "outputs": [
    {
     "name": "stdout",
     "output_type": "stream",
     "text": [
      "[  0.           5.26315789  10.52631579  15.78947368  21.05263158\n",
      "  26.31578947  31.57894737  36.84210526  42.10526316  47.36842105\n",
      "  52.63157895  57.89473684  63.15789474  68.42105263  73.68421053\n",
      "  78.94736842  84.21052632  89.47368421  94.73684211 100.        ]\n"
     ]
    }
   ],
   "source": [
    "#np.linspace(start, stop, num=tamanho, endpoint=False/True, retsetp=True) linear\n",
    "\n",
    "linear_array = np.linspace(0,100, num=20, endpoint=True)\n",
    "\n",
    "print(linear_array)"
   ]
  },
  {
   "cell_type": "code",
   "execution_count": 43,
   "metadata": {},
   "outputs": [
    {
     "name": "stdout",
     "output_type": "stream",
     "text": [
      "[[50 43  6 52]\n",
      " [85  8 12  0]]\n"
     ]
    }
   ],
   "source": [
    "# Gerando números aleatórios\n",
    "\n",
    "from numpy.random import default_rng\n",
    "\n",
    "rng = default_rng()\n",
    "\n",
    "aleatorio = rng.integers(100, size= (2,4))\n",
    "\n",
    "print(aleatorio)"
   ]
  },
  {
   "cell_type": "code",
   "execution_count": 31,
   "metadata": {},
   "outputs": [
    {
     "name": "stdout",
     "output_type": "stream",
     "text": [
      "(5, 3, 6)\n",
      "90\n",
      "3\n"
     ]
    }
   ],
   "source": [
    "# Shape\n",
    "print(zero_array.shape)\n",
    "\n",
    "#Tamanho\n",
    "print(zero_array.size)\n",
    "\n",
    "#dimensões\n",
    "print(zero_array.ndim)"
   ]
  },
  {
   "cell_type": "code",
   "execution_count": 34,
   "metadata": {},
   "outputs": [
    {
     "name": "stdout",
     "output_type": "stream",
     "text": [
      "1\n"
     ]
    }
   ],
   "source": [
    "#Acrescentando dimensões \n",
    "a = np.arange(1, 5)\n",
    "\n",
    "print(a.ndim)\n",
    "\n",
    "a2 = a[np.newaxis,:]"
   ]
  },
  {
   "cell_type": "code",
   "execution_count": 36,
   "metadata": {},
   "outputs": [
    {
     "name": "stdout",
     "output_type": "stream",
     "text": [
      "[1 2 3 4 5 6]\n"
     ]
    }
   ],
   "source": [
    "# Concatenação\n",
    "\n",
    "a = np.array([1, 2, 3])\n",
    "b = np.array([4, 5, 6])\n",
    "\n",
    "c = np.concatenate((a, b))\n",
    "\n",
    "print(c)"
   ]
  },
  {
   "cell_type": "code",
   "execution_count": 39,
   "metadata": {},
   "outputs": [
    {
     "name": "stdout",
     "output_type": "stream",
     "text": [
      "[ 8  9 10 11 12]\n"
     ]
    }
   ],
   "source": [
    "# Consultando dados\n",
    "\n",
    "a = np.array([[1, 2, 3, 4],[5, 6, 7, 8], [9, 10, 11, 12]])\n",
    "\n",
    "maior_8 = a[a>=8]\n",
    "\n",
    "print(maior_8)"
   ]
  },
  {
   "cell_type": "code",
   "execution_count": 41,
   "metadata": {},
   "outputs": [
    {
     "name": "stdout",
     "output_type": "stream",
     "text": [
      "6\n",
      "3\n",
      "2.0\n"
     ]
    }
   ],
   "source": [
    "#Operações\n",
    "\n",
    "a = np.array([1, 2, 3])\n",
    "\n",
    "print(a.sum())\n",
    "print(a.max())\n",
    "print(a.mean())"
   ]
  },
  {
   "cell_type": "code",
   "execution_count": 11,
   "metadata": {},
   "outputs": [
    {
     "name": "stdout",
     "output_type": "stream",
     "text": [
      "0.03125\n"
     ]
    }
   ],
   "source": [
    "# aplicações \n",
    "from time import process_time\n",
    "from numpy.random import default_rng\n",
    "\n",
    "\n",
    "rng = default_rng()\n",
    "a =  rng.integers(10,100, 10000000)\n",
    "b =  rng.integers(10,100, 10000000)\n",
    "\n",
    "t1 = process_time()\n",
    "\n",
    "c = a*b\n",
    "\n",
    "t2 = process_time()\n",
    "\n",
    "print(t2-t1)"
   ]
  },
  {
   "cell_type": "code",
   "execution_count": 12,
   "metadata": {},
   "outputs": [
    {
     "name": "stdout",
     "output_type": "stream",
     "text": [
      "2.9375\n"
     ]
    }
   ],
   "source": [
    "list_a =  list(rng.integers(10,100, 10000000))\n",
    "list_b =  list(rng.integers(10,100, 10000000))\n",
    "c2 = []\n",
    "t11 = process_time()\n",
    "\n",
    "for i in range(len(list_a)):\n",
    "    c2.append(list_a[i]*list_b[i])\n",
    "\n",
    "t22 = process_time()\n",
    "\n",
    "print(t22-t11)"
   ]
  }
 ],
 "metadata": {
  "kernelspec": {
   "display_name": "base",
   "language": "python",
   "name": "python3"
  },
  "language_info": {
   "codemirror_mode": {
    "name": "ipython",
    "version": 3
   },
   "file_extension": ".py",
   "mimetype": "text/x-python",
   "name": "python",
   "nbconvert_exporter": "python",
   "pygments_lexer": "ipython3",
   "version": "3.11.3"
  }
 },
 "nbformat": 4,
 "nbformat_minor": 2
}
