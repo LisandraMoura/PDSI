{
 "cells": [
  {
   "cell_type": "code",
   "execution_count": 16,
   "metadata": {},
   "outputs": [],
   "source": [
    "import numpy as np\n",
    "\n",
    "x = np.linspace(0, 100)\n"
   ]
  },
  {
   "cell_type": "code",
   "execution_count": 7,
   "metadata": {},
   "outputs": [
    {
     "name": "stdout",
     "output_type": "stream",
     "text": [
      "27\n"
     ]
    }
   ],
   "source": [
    "# V1 - Produto interno\n",
    "array1 = np.array([6,3])\n",
    "array2 = np.array([2,5])\n",
    "\n",
    "result = np.inner(array1, array2)\n",
    "print(result)"
   ]
  },
  {
   "cell_type": "code",
   "execution_count": 10,
   "metadata": {},
   "outputs": [],
   "source": [
    "# transformada de fourier em produto interno\n",
    "\n",
    "def dft1(x):\n",
    "    \n",
    "    N = len(x)\n",
    "    \n",
    "    n = np.arrange(N)\n",
    "    \n",
    "    X = np.zeros(N, dtype=complex)\n",
    "    \n",
    "    \n",
    "    for k in np.arange(N):\n",
    "        w = np.exp(-1j * (2 * np.pi / N) * k * n)\n",
    "        \n",
    "        #X[k] += np.inner(w.T, x)\n",
    "        # ou \n",
    "        X[k] += w.T @ x\n",
    "    \n",
    "    return X\n"
   ]
  },
  {
   "cell_type": "code",
   "execution_count": 23,
   "metadata": {},
   "outputs": [],
   "source": [
    "# V2 Matriz - Produto Matriz * vetor\n",
    "\n",
    "# X = W @ x\n",
    "\n",
    "def dft2(x):\n",
    "      \n",
    "    N = len(x)\n",
    "\n",
    "    n = np.expand_dims(np.arange(N), 1)\n",
    "    \n",
    "    W = np.exp(-1j * (2 * np.pi / N) * (n.T @ n))\n",
    "        \n",
    "    X =  W @ x\n",
    "    \n",
    "    return X\n"
   ]
  },
  {
   "cell_type": "code",
   "execution_count": 4,
   "metadata": {},
   "outputs": [],
   "source": [
    "# corrigir conta\n",
    "# V3\n",
    "def dftv3(x):\n",
    "    \n",
    "    N = len(x)\n",
    "    X = np.zeros(N, dtype=complex)\n",
    "\n",
    "    for k in range(N):\n",
    "        for n in range(N):\n",
    "            X[k] += x[n]*np.exp(-1j * 2 * np.pi * n * k / N)\n",
    "    \n",
    "    return X\n",
    "\n",
    "X = dftv3(x[:1000])\n",
    "\n",
    "#np.fft.fft(x)"
   ]
  },
  {
   "cell_type": "code",
   "execution_count": 25,
   "metadata": {},
   "outputs": [],
   "source": [
    "import numpy as np\n",
    "import matplotlib.pyplot as plt\n",
    "\n",
    "#Estudar todas as funções de FFT do Numpy\n",
    "X = np.fft.fft(x)\n",
    "\n",
    "X = np.abs(X)\n",
    "plt.plot(X)"
   ]
  }
 ],
 "metadata": {
  "kernelspec": {
   "display_name": "base",
   "language": "python",
   "name": "python3"
  },
  "language_info": {
   "codemirror_mode": {
    "name": "ipython",
    "version": 3
   },
   "file_extension": ".py",
   "mimetype": "text/x-python",
   "name": "python",
   "nbconvert_exporter": "python",
   "pygments_lexer": "ipython3",
   "version": "3.11.3"
  }
 },
 "nbformat": 4,
 "nbformat_minor": 2
}
